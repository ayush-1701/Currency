{
 "cells": [
  {
   "cell_type": "code",
   "execution_count": 1,
   "metadata": {
    "collapsed": true
   },
   "outputs": [],
   "source": [
    "import pandas as pd\n",
    "import numpy as np"
   ]
  },
  {
   "cell_type": "code",
   "execution_count": 24,
   "outputs": [
    {
     "data": {
      "text/plain": "   USD   AED    AFN    ALL     AMD   ANG     AOA    ARS   AUD   AWG  ...  \\\n0    1  3.67  78.55  102.9  513.07  1.79  654.64  95.29  1.33  1.79  ...   \n\n     VUV   WST     XAF  XCD    XDR     XOF    XPF     YER   ZAR    ZMW  \n0  109.4  2.52  550.26  2.7  0.701  550.26  100.1  249.75  14.3  22.56  \n\n[1 rows x 160 columns]",
      "text/html": "<div>\n<style scoped>\n    .dataframe tbody tr th:only-of-type {\n        vertical-align: middle;\n    }\n\n    .dataframe tbody tr th {\n        vertical-align: top;\n    }\n\n    .dataframe thead th {\n        text-align: right;\n    }\n</style>\n<table border=\"1\" class=\"dataframe\">\n  <thead>\n    <tr style=\"text-align: right;\">\n      <th></th>\n      <th>USD</th>\n      <th>AED</th>\n      <th>AFN</th>\n      <th>ALL</th>\n      <th>AMD</th>\n      <th>ANG</th>\n      <th>AOA</th>\n      <th>ARS</th>\n      <th>AUD</th>\n      <th>AWG</th>\n      <th>...</th>\n      <th>VUV</th>\n      <th>WST</th>\n      <th>XAF</th>\n      <th>XCD</th>\n      <th>XDR</th>\n      <th>XOF</th>\n      <th>XPF</th>\n      <th>YER</th>\n      <th>ZAR</th>\n      <th>ZMW</th>\n    </tr>\n  </thead>\n  <tbody>\n    <tr>\n      <th>0</th>\n      <td>1</td>\n      <td>3.67</td>\n      <td>78.55</td>\n      <td>102.9</td>\n      <td>513.07</td>\n      <td>1.79</td>\n      <td>654.64</td>\n      <td>95.29</td>\n      <td>1.33</td>\n      <td>1.79</td>\n      <td>...</td>\n      <td>109.4</td>\n      <td>2.52</td>\n      <td>550.26</td>\n      <td>2.7</td>\n      <td>0.701</td>\n      <td>550.26</td>\n      <td>100.1</td>\n      <td>249.75</td>\n      <td>14.3</td>\n      <td>22.56</td>\n    </tr>\n  </tbody>\n</table>\n<p>1 rows × 160 columns</p>\n</div>"
     },
     "execution_count": 24,
     "metadata": {},
     "output_type": "execute_result"
    }
   ],
   "source": [
    "frm = input(\"Enter FROM Currency: \")\n",
    "frm = frm.upper()\n",
    "df = pd.read_csv(\"./Currencies/\"+frm+\"res.csv\")\n",
    "df"
   ],
   "metadata": {
    "collapsed": false,
    "pycharm": {
     "name": "#%%\n"
    }
   }
  },
  {
   "cell_type": "code",
   "execution_count": 25,
   "outputs": [
    {
     "name": "stdout",
     "output_type": "stream",
     "text": [
      "USD = [1]\n",
      "AED = [3.67]\n",
      "AFN = [78.55]\n",
      "ALL = [102.9]\n",
      "AMD = [513.07]\n",
      "ANG = [1.79]\n",
      "AOA = [654.64]\n",
      "ARS = [95.29]\n",
      "AUD = [1.33]\n",
      "AWG = [1.79]\n",
      "AZN = [1.7]\n",
      "BAM = [1.64]\n",
      "BBD = [2]\n",
      "BDT = [84.74]\n",
      "BGN = [1.64]\n",
      "BHD = [0.376]\n",
      "BIF = [1966.54]\n",
      "BMD = [1]\n",
      "BND = [1.34]\n",
      "BOB = [6.88]\n",
      "BRL = [5.02]\n",
      "BSD = [1]\n",
      "BTN = [74.24]\n",
      "BWP = [10.91]\n",
      "BYN = [2.53]\n",
      "BZD = [2]\n",
      "CAD = [1.23]\n",
      "CDF = [1990.61]\n",
      "CHF = [0.92]\n",
      "CLP = [746.89]\n",
      "CNY = [6.47]\n",
      "COP = [3759.28]\n",
      "CRC = [617.5]\n",
      "CUC = [1]\n",
      "CUP = [25.75]\n",
      "CVE = [92.5]\n",
      "CZK = [21.47]\n",
      "DJF = [177.72]\n",
      "DKK = [6.26]\n",
      "DOP = [56.86]\n",
      "DZD = [133.8]\n",
      "EGP = [15.65]\n",
      "ERN = [15]\n",
      "ETB = [43.75]\n",
      "EUR = [0.839]\n",
      "FJD = [2.07]\n",
      "FKP = [0.719]\n",
      "FOK = [6.26]\n",
      "GBP = [0.719]\n",
      "GEL = [3.16]\n",
      "GGP = [0.719]\n",
      "GHS = [5.83]\n",
      "GIP = [0.719]\n",
      "GMD = [51.97]\n",
      "GNF = [9832.58]\n",
      "GTQ = [7.73]\n",
      "GYD = [209.27]\n",
      "HKD = [7.76]\n",
      "HNL = [23.98]\n",
      "HRK = [6.32]\n",
      "HTG = [91.3]\n",
      "HUF = [297.04]\n",
      "IDR = [14487.84]\n",
      "ILS = [3.27]\n",
      "IMP = [0.719]\n",
      "INR = [74.24]\n",
      "IQD = [1460.66]\n",
      "IRR = [41929.3]\n",
      "ISK = [123.27]\n",
      "JMD = [150.26]\n",
      "JOD = [0.709]\n",
      "JPY = [110.62]\n",
      "KES = [107.69]\n",
      "KGS = [84.53]\n",
      "KHR = [4083.47]\n",
      "KID = [1.33]\n",
      "KMF = [412.7]\n",
      "KRW = [1134.57]\n",
      "KWD = [0.3]\n",
      "KYD = [0.833]\n",
      "KZT = [426.97]\n",
      "LAK = [9451.8]\n",
      "LBP = [1507.5]\n",
      "LKR = [198.48]\n",
      "LRD = [171.23]\n",
      "LSL = [14.3]\n",
      "LYD = [4.47]\n",
      "MAD = [8.91]\n",
      "MDL = [17.83]\n",
      "MGA = [3778.15]\n",
      "MKD = [51.88]\n",
      "MMK = [1644.91]\n",
      "MNT = [2850.02]\n",
      "MOP = [8]\n",
      "MRU = [36.17]\n",
      "MUR = [40.93]\n",
      "MVR = [15.36]\n",
      "MWK = [806.34]\n",
      "MXN = [20.49]\n",
      "MYR = [4.15]\n",
      "MZN = [63.59]\n",
      "NAD = [14.3]\n",
      "NGN = [425.67]\n",
      "NIO = [34.89]\n",
      "NOK = [8.58]\n",
      "NPR = [118.79]\n",
      "NZD = [1.43]\n",
      "OMR = [0.384]\n",
      "PAB = [1]\n",
      "PEN = [3.96]\n",
      "PGK = [3.51]\n",
      "PHP = [48.69]\n",
      "PKR = [157.38]\n",
      "PLN = [3.8]\n",
      "PYG = [6753.55]\n",
      "QAR = [3.64]\n",
      "RON = [4.13]\n",
      "RSD = [98.81]\n",
      "RUB = [73.11]\n",
      "RWF = [1004.36]\n",
      "SAR = [3.75]\n",
      "SBD = [8.06]\n",
      "SCR = [15.81]\n",
      "SDG = [434.46]\n",
      "SEK = [8.52]\n",
      "SGD = [1.34]\n",
      "SHP = [0.719]\n",
      "SLL = [10264.78]\n",
      "SOS = [579.1]\n",
      "SRD = [21.06]\n",
      "SSP = [177.6]\n",
      "STN = [20.55]\n",
      "SYP = [1254.41]\n",
      "SZL = [14.3]\n",
      "THB = [31.71]\n",
      "TJS = [11.31]\n",
      "TMT = [3.5]\n",
      "TND = [2.76]\n",
      "TOP = [2.23]\n",
      "TRY = [8.69]\n",
      "TTD = [6.78]\n",
      "TVD = [1.33]\n",
      "TWD = [27.93]\n",
      "TZS = [2316.08]\n",
      "UAH = [27.28]\n",
      "UGX = [3552.84]\n",
      "UYU = [43.72]\n",
      "UZS = [10688.96]\n",
      "VES = [3178517.08]\n",
      "VND = [22930.86]\n",
      "VUV = [109.4]\n",
      "WST = [2.52]\n",
      "XAF = [550.26]\n",
      "XCD = [2.7]\n",
      "XDR = [0.701]\n",
      "XOF = [550.26]\n",
      "XPF = [100.1]\n",
      "YER = [249.75]\n",
      "ZAR = [14.3]\n",
      "ZMW = [22.56]\n"
     ]
    }
   ],
   "source": [
    "for column in df:\n",
    "    #colVal = df[column]\n",
    "    print(column, \"=\", df[column].values)"
   ],
   "metadata": {
    "collapsed": false,
    "pycharm": {
     "name": "#%%\n"
    }
   }
  },
  {
   "cell_type": "code",
   "execution_count": 28,
   "outputs": [
    {
     "ename": "TypeError",
     "evalue": "raw_input() takes from 1 to 2 positional arguments but 3 were given",
     "output_type": "error",
     "traceback": [
      "\u001B[1;31m---------------------------------------------------------------------------\u001B[0m",
      "\u001B[1;31mTypeError\u001B[0m                                 Traceback (most recent call last)",
      "\u001B[1;32m<ipython-input-28-c0243b2c0bfb>\u001B[0m in \u001B[0;36m<module>\u001B[1;34m\u001B[0m\n\u001B[0;32m      1\u001B[0m \u001B[1;31m#print(\"Enter\", frm, \"Amount:\")\u001B[0m\u001B[1;33m\u001B[0m\u001B[1;33m\u001B[0m\u001B[1;33m\u001B[0m\u001B[0m\n\u001B[1;32m----> 2\u001B[1;33m \u001B[0mamt\u001B[0m \u001B[1;33m=\u001B[0m \u001B[0mfloat\u001B[0m\u001B[1;33m(\u001B[0m\u001B[0minput\u001B[0m\u001B[1;33m(\u001B[0m\u001B[1;34m\"Enter\"\u001B[0m\u001B[1;33m,\u001B[0m \u001B[0mfrm\u001B[0m\u001B[1;33m)\u001B[0m\u001B[1;33m)\u001B[0m\u001B[1;33m\u001B[0m\u001B[1;33m\u001B[0m\u001B[0m\n\u001B[0m\u001B[0;32m      3\u001B[0m \u001B[0mto_amt\u001B[0m \u001B[1;33m=\u001B[0m \u001B[0minput\u001B[0m\u001B[1;33m(\u001B[0m\u001B[1;34m\"Enter CURRENCY to be Converted:\"\u001B[0m\u001B[1;33m)\u001B[0m\u001B[1;33m\u001B[0m\u001B[1;33m\u001B[0m\u001B[0m\n\u001B[0;32m      4\u001B[0m \u001B[0mto_amt\u001B[0m \u001B[1;33m=\u001B[0m \u001B[0mto_amt\u001B[0m\u001B[1;33m.\u001B[0m\u001B[0mupper\u001B[0m\u001B[1;33m(\u001B[0m\u001B[1;33m)\u001B[0m\u001B[1;33m\u001B[0m\u001B[1;33m\u001B[0m\u001B[0m\n\u001B[0;32m      5\u001B[0m \u001B[0mprint\u001B[0m\u001B[1;33m(\u001B[0m\u001B[0mamt\u001B[0m\u001B[1;33m)\u001B[0m\u001B[1;33m\u001B[0m\u001B[1;33m\u001B[0m\u001B[0m\n",
      "\u001B[1;31mTypeError\u001B[0m: raw_input() takes from 1 to 2 positional arguments but 3 were given"
     ]
    }
   ],
   "source": [
    "print(\"Enter\", frm, \"Amount:\")\n",
    "amt = float(input(\"Enter Amount:\"))\n",
    "to_amt = input(\"Enter CURRENCY to be Converted:\")\n",
    "to_amt = to_amt.upper()\n",
    "print(amt)\n",
    "print(to_amt)\n",
    "\n",
    "final_amt = 0\n",
    "for column in df:\n",
    "    if to_amt == column:\n",
    "        final_amt = amt*df[column].values\n",
    "\n",
    "print(amt, \"INR = \",final_amt, to_amt)"
   ],
   "metadata": {
    "collapsed": false,
    "pycharm": {
     "name": "#%%\n"
    }
   }
  },
  {
   "cell_type": "code",
   "execution_count": null,
   "outputs": [],
   "source": [],
   "metadata": {
    "collapsed": false,
    "pycharm": {
     "name": "#%%\n"
    }
   }
  }
 ],
 "metadata": {
  "kernelspec": {
   "display_name": "Python 3",
   "language": "python",
   "name": "python3"
  },
  "language_info": {
   "codemirror_mode": {
    "name": "ipython",
    "version": 2
   },
   "file_extension": ".py",
   "mimetype": "text/x-python",
   "name": "python",
   "nbconvert_exporter": "python",
   "pygments_lexer": "ipython2",
   "version": "2.7.6"
  }
 },
 "nbformat": 4,
 "nbformat_minor": 0
}